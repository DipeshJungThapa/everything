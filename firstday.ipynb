{
 "cells": [
  {
   "cell_type": "code",
   "execution_count": 1,
   "id": "e3b75868-3461-4ed4-a15c-1a1f95be01ed",
   "metadata": {},
   "outputs": [
    {
     "data": {
      "text/plain": [
       "4"
      ]
     },
     "execution_count": 1,
     "metadata": {},
     "output_type": "execute_result"
    }
   ],
   "source": [
    "2+2\n"
   ]
  },
  {
   "cell_type": "code",
   "execution_count": null,
   "id": "92ea515c",
   "metadata": {},
   "outputs": [],
   "source": []
  },
  {
   "cell_type": "code",
   "execution_count": 2,
   "id": "6ab769cb-2f71-4be5-a9d4-66013deb23fb",
   "metadata": {},
   "outputs": [
    {
     "data": {
      "text/plain": [
       "22"
      ]
     },
     "execution_count": 2,
     "metadata": {},
     "output_type": "execute_result"
    }
   ],
   "source": [
    "2\n",
    "2\n",
    "2\n",
    "2\n",
    "+2\n",
    "\n",
    "2\n",
    "2\n",
    "22\n"
   ]
  },
  {
   "cell_type": "code",
   "execution_count": 3,
   "id": "92d6a430-0a6c-4a54-93cc-e3fe65d0a3ef",
   "metadata": {},
   "outputs": [
    {
     "ename": "NameError",
     "evalue": "name 'programming' is not defined",
     "output_type": "error",
     "traceback": [
      "\u001b[1;31m---------------------------------------------------------------------------\u001b[0m",
      "\u001b[1;31mNameError\u001b[0m                                 Traceback (most recent call last)",
      "Cell \u001b[1;32mIn[3], line 1\u001b[0m\n\u001b[1;32m----> 1\u001b[0m l\u001b[38;5;241m=\u001b[39m\u001b[43mprogramming\u001b[49m\n",
      "\u001b[1;31mNameError\u001b[0m: name 'programming' is not defined"
     ]
    }
   ],
   "source": [
    "l=programming"
   ]
  },
  {
   "cell_type": "code",
   "execution_count": 4,
   "id": "2b6011d6-959a-4379-a207-fe97df7269fa",
   "metadata": {},
   "outputs": [],
   "source": [
    "l=list(\"python programming\")\n"
   ]
  },
  {
   "cell_type": "code",
   "execution_count": 5,
   "id": "be14fa82-b4d1-47a9-b571-064a29424efb",
   "metadata": {},
   "outputs": [
    {
     "data": {
      "text/plain": [
       "18"
      ]
     },
     "execution_count": 5,
     "metadata": {},
     "output_type": "execute_result"
    }
   ],
   "source": [
    "len(l)\n"
   ]
  },
  {
   "cell_type": "code",
   "execution_count": 6,
   "id": "ff44f308-234e-40bc-b785-38df6f477216",
   "metadata": {},
   "outputs": [
    {
     "ename": "SyntaxError",
     "evalue": "expected ':' (3564621856.py, line 1)",
     "output_type": "error",
     "traceback": [
      "\u001b[1;36m  Cell \u001b[1;32mIn[6], line 1\u001b[1;36m\u001b[0m\n\u001b[1;33m    for x in l\u001b[0m\n\u001b[1;37m              ^\u001b[0m\n\u001b[1;31mSyntaxError\u001b[0m\u001b[1;31m:\u001b[0m expected ':'\n"
     ]
    }
   ],
   "source": [
    "for x in l\n",
    "    "
   ]
  },
  {
   "cell_type": "code",
   "execution_count": 7,
   "id": "50f7ad87-eb41-4449-aa55-8b6ee290360c",
   "metadata": {},
   "outputs": [
    {
     "ename": "SyntaxError",
     "evalue": "incomplete input (166059206.py, line 2)",
     "output_type": "error",
     "traceback": [
      "\u001b[1;36m  Cell \u001b[1;32mIn[7], line 2\u001b[1;36m\u001b[0m\n\u001b[1;33m    \u001b[0m\n\u001b[1;37m    ^\u001b[0m\n\u001b[1;31mSyntaxError\u001b[0m\u001b[1;31m:\u001b[0m incomplete input\n"
     ]
    }
   ],
   "source": [
    "    for x in l:\n",
    "        \n"
   ]
  },
  {
   "cell_type": "code",
   "execution_count": null,
   "id": "b632fd59-5130-4983-a35c-7086ea6647af",
   "metadata": {},
   "outputs": [],
   "source": []
  },
  {
   "cell_type": "code",
   "execution_count": null,
   "id": "430ed0b7-73d3-463a-8bb7-a83e814ffd5b",
   "metadata": {},
   "outputs": [],
   "source": []
  },
  {
   "cell_type": "code",
   "execution_count": null,
   "id": "fc3ad4c2-8536-4883-9f6c-8513e984e678",
   "metadata": {},
   "outputs": [],
   "source": []
  },
  {
   "cell_type": "code",
   "execution_count": 8,
   "id": "5482be3b-eb80-4575-b439-a5063d83f624",
   "metadata": {},
   "outputs": [
    {
     "name": "stdout",
     "output_type": "stream",
     "text": [
      "1 is odd\n",
      "2 is even\n",
      "3 is odd\n",
      "4 is even\n",
      "5 is odd\n",
      "6 is even\n",
      "7 is odd\n",
      "8 is even\n",
      "9 is odd\n",
      "10 is even\n",
      "11 is odd\n",
      "12 is even\n",
      "13 is odd\n",
      "14 is even\n",
      "15 is odd\n",
      "16 is even\n",
      "17 is odd\n",
      "18 is even\n",
      "19 is odd\n",
      "20 is even\n",
      "21 is odd\n",
      "22 is even\n",
      "23 is odd\n",
      "24 is even\n",
      "25 is odd\n",
      "26 is even\n",
      "27 is odd\n",
      "28 is even\n",
      "29 is odd\n",
      "30 is even\n",
      "31 is odd\n",
      "32 is even\n",
      "33 is odd\n",
      "34 is even\n",
      "35 is odd\n",
      "36 is even\n",
      "37 is odd\n",
      "38 is even\n",
      "39 is odd\n",
      "40 is even\n",
      "41 is odd\n",
      "42 is even\n",
      "43 is odd\n",
      "44 is even\n",
      "45 is odd\n",
      "46 is even\n",
      "47 is odd\n",
      "48 is even\n",
      "49 is odd\n",
      "50 is even\n",
      "51 is odd\n",
      "52 is even\n",
      "53 is odd\n",
      "54 is even\n",
      "55 is odd\n",
      "56 is even\n",
      "57 is odd\n",
      "58 is even\n",
      "59 is odd\n",
      "60 is even\n",
      "61 is odd\n",
      "62 is even\n",
      "63 is odd\n",
      "64 is even\n",
      "65 is odd\n",
      "66 is even\n",
      "67 is odd\n",
      "68 is even\n",
      "69 is odd\n",
      "70 is even\n",
      "71 is odd\n",
      "72 is even\n",
      "73 is odd\n",
      "74 is even\n",
      "75 is odd\n",
      "76 is even\n",
      "77 is odd\n",
      "78 is even\n",
      "79 is odd\n",
      "80 is even\n",
      "81 is odd\n",
      "82 is even\n",
      "83 is odd\n",
      "84 is even\n",
      "85 is odd\n",
      "86 is even\n",
      "87 is odd\n",
      "88 is even\n",
      "89 is odd\n",
      "90 is even\n",
      "91 is odd\n",
      "92 is even\n",
      "93 is odd\n",
      "94 is even\n",
      "95 is odd\n",
      "96 is even\n",
      "97 is odd\n",
      "98 is even\n",
      "99 is odd\n",
      "100 is even\n",
      "101 is odd\n",
      "102 is even\n",
      "103 is odd\n",
      "104 is even\n",
      "105 is odd\n",
      "106 is even\n",
      "107 is odd\n",
      "108 is even\n",
      "109 is odd\n",
      "110 is even\n",
      "111 is odd\n",
      "112 is even\n",
      "113 is odd\n",
      "114 is even\n",
      "115 is odd\n",
      "116 is even\n",
      "117 is odd\n",
      "118 is even\n",
      "119 is odd\n",
      "120 is even\n",
      "121 is odd\n",
      "122 is even\n",
      "123 is odd\n",
      "124 is even\n",
      "125 is odd\n",
      "126 is even\n",
      "127 is odd\n",
      "128 is even\n",
      "129 is odd\n",
      "130 is even\n",
      "131 is odd\n",
      "132 is even\n",
      "133 is odd\n",
      "134 is even\n",
      "135 is odd\n",
      "136 is even\n",
      "137 is odd\n",
      "138 is even\n",
      "139 is odd\n",
      "140 is even\n",
      "141 is odd\n",
      "142 is even\n",
      "143 is odd\n",
      "144 is even\n",
      "145 is odd\n",
      "146 is even\n",
      "147 is odd\n",
      "148 is even\n",
      "149 is odd\n",
      "150 is even\n",
      "151 is odd\n",
      "152 is even\n",
      "153 is odd\n",
      "154 is even\n",
      "155 is odd\n",
      "156 is even\n",
      "157 is odd\n",
      "158 is even\n",
      "159 is odd\n",
      "160 is even\n",
      "161 is odd\n",
      "162 is even\n",
      "163 is odd\n",
      "164 is even\n",
      "165 is odd\n",
      "166 is even\n",
      "167 is odd\n",
      "168 is even\n",
      "169 is odd\n",
      "170 is even\n",
      "171 is odd\n",
      "172 is even\n",
      "173 is odd\n",
      "174 is even\n",
      "175 is odd\n",
      "176 is even\n",
      "177 is odd\n",
      "178 is even\n",
      "179 is odd\n",
      "180 is even\n",
      "181 is odd\n",
      "182 is even\n",
      "183 is odd\n",
      "184 is even\n",
      "185 is odd\n",
      "186 is even\n",
      "187 is odd\n",
      "188 is even\n",
      "189 is odd\n",
      "190 is even\n",
      "191 is odd\n",
      "192 is even\n",
      "193 is odd\n",
      "194 is even\n",
      "195 is odd\n",
      "196 is even\n",
      "197 is odd\n",
      "198 is even\n",
      "199 is odd\n"
     ]
    }
   ],
   "source": [
    "for x in range(1,200):\n",
    "    if x%2==0:\n",
    "        print(x, \"is even\")\n",
    "    else:\n",
    "        print(x,\"is odd\")"
   ]
  },
  {
   "cell_type": "code",
   "execution_count": 9,
   "id": "809068ee-7f28-4ebd-931c-d47bae12da44",
   "metadata": {},
   "outputs": [
    {
     "ename": "SyntaxError",
     "evalue": "invalid syntax (2872228398.py, line 1)",
     "output_type": "error",
     "traceback": [
      "\u001b[1;36m  Cell \u001b[1;32mIn[9], line 1\u001b[1;36m\u001b[0m\n\u001b[1;33m    for x =10:\u001b[0m\n\u001b[1;37m          ^\u001b[0m\n\u001b[1;31mSyntaxError\u001b[0m\u001b[1;31m:\u001b[0m invalid syntax\n"
     ]
    }
   ],
   "source": [
    "for x =10:\n",
    "    if x%2==0:\n",
    "        print(x, \"is even\")\n",
    "    else:\n",
    "        print(x,\"is odd\")"
   ]
  },
  {
   "cell_type": "code",
   "execution_count": 10,
   "id": "deae3061-0b6c-4c00-8d13-9898fa2f37f3",
   "metadata": {},
   "outputs": [
    {
     "ename": "SyntaxError",
     "evalue": "invalid syntax (1889031762.py, line 1)",
     "output_type": "error",
     "traceback": [
      "\u001b[1;36m  Cell \u001b[1;32mIn[10], line 1\u001b[1;36m\u001b[0m\n\u001b[1;33m    for x=10\u001b[0m\n\u001b[1;37m         ^\u001b[0m\n\u001b[1;31mSyntaxError\u001b[0m\u001b[1;31m:\u001b[0m invalid syntax\n"
     ]
    }
   ],
   "source": [
    "for x=10\n",
    "    if x%2==0:\n",
    "        print(x, \"is even\")\n",
    "    else:\n",
    "        print(x,\"is odd\")"
   ]
  },
  {
   "cell_type": "code",
   "execution_count": 11,
   "id": "c9aa73b4-0f39-42e1-9e01-b4a71ebd5495",
   "metadata": {},
   "outputs": [],
   "source": [
    "l=[2,34,3,5,5]"
   ]
  },
  {
   "cell_type": "code",
   "execution_count": 12,
   "id": "ffbb2edb-6d73-4d12-a3f4-75fcc4686a45",
   "metadata": {},
   "outputs": [
    {
     "ename": "TypeError",
     "evalue": "'int' object is not iterable",
     "output_type": "error",
     "traceback": [
      "\u001b[1;31m---------------------------------------------------------------------------\u001b[0m",
      "\u001b[1;31mTypeError\u001b[0m                                 Traceback (most recent call last)",
      "Cell \u001b[1;32mIn[12], line 1\u001b[0m\n\u001b[1;32m----> 1\u001b[0m \u001b[38;5;28;01mfor\u001b[39;00m x \u001b[38;5;129;01min\u001b[39;00m \u001b[38;5;241m1\u001b[39m:\n\u001b[0;32m      2\u001b[0m     \u001b[38;5;28;01mif\u001b[39;00m x\u001b[38;5;241m%\u001b[39m\u001b[38;5;241m2\u001b[39m\u001b[38;5;241m==\u001b[39m\u001b[38;5;241m0\u001b[39m:\n\u001b[0;32m      3\u001b[0m         \u001b[38;5;28mprint\u001b[39m(x, \u001b[38;5;124m\"\u001b[39m\u001b[38;5;124mis even\u001b[39m\u001b[38;5;124m\"\u001b[39m)\n",
      "\u001b[1;31mTypeError\u001b[0m: 'int' object is not iterable"
     ]
    }
   ],
   "source": [
    "for x in 1:\n",
    "    if x%2==0:\n",
    "        print(x, \"is even\")\n",
    "    else:\n",
    "        print(x,\"is odd\")"
   ]
  },
  {
   "cell_type": "code",
   "execution_count": 13,
   "id": "563b7f67-1986-49a8-b687-8aac3af7ebeb",
   "metadata": {},
   "outputs": [
    {
     "ename": "TypeError",
     "evalue": "'int' object is not iterable",
     "output_type": "error",
     "traceback": [
      "\u001b[1;31m---------------------------------------------------------------------------\u001b[0m",
      "\u001b[1;31mTypeError\u001b[0m                                 Traceback (most recent call last)",
      "Cell \u001b[1;32mIn[13], line 1\u001b[0m\n\u001b[1;32m----> 1\u001b[0m \u001b[38;5;28;01mfor\u001b[39;00m x \u001b[38;5;129;01min\u001b[39;00m \u001b[38;5;241m1\u001b[39m:\n\u001b[0;32m      2\u001b[0m     \u001b[38;5;28;01mif\u001b[39;00m x\u001b[38;5;241m%\u001b[39m\u001b[38;5;241m2\u001b[39m\u001b[38;5;241m==\u001b[39m\u001b[38;5;241m0\u001b[39m:\n\u001b[0;32m      3\u001b[0m         \u001b[38;5;28mprint\u001b[39m(x, \u001b[38;5;124m\"\u001b[39m\u001b[38;5;124mis even\u001b[39m\u001b[38;5;124m\"\u001b[39m)\n",
      "\u001b[1;31mTypeError\u001b[0m: 'int' object is not iterable"
     ]
    }
   ],
   "source": [
    "for x in 1:\n",
    "    if x%2==0:\n",
    "        print(x, \"is even\")\n",
    "    else:\n",
    "        print(x,\"is odd\")"
   ]
  },
  {
   "cell_type": "code",
   "execution_count": 14,
   "id": "b94ef944-61f2-4f93-9a20-86e00f8abd99",
   "metadata": {},
   "outputs": [
    {
     "name": "stdout",
     "output_type": "stream",
     "text": [
      "2 is even\n",
      "34 is even\n",
      "3 is odd\n",
      "5 is odd\n",
      "5 is odd\n"
     ]
    }
   ],
   "source": [
    "l=[2,34,3,5,5]\n",
    "for x in l:\n",
    "    if x%2==0:\n",
    "        print(x, \"is even\")\n",
    "    else:\n",
    "        print(x,\"is odd\")"
   ]
  },
  {
   "cell_type": "code",
   "execution_count": 15,
   "id": "600df3bc-d5e2-4d2c-baf0-0837c02b880f",
   "metadata": {},
   "outputs": [
    {
     "ename": "IndentationError",
     "evalue": "expected an indented block after 'if' statement on line 2 (2673258208.py, line 3)",
     "output_type": "error",
     "traceback": [
      "\u001b[1;36m  Cell \u001b[1;32mIn[15], line 3\u001b[1;36m\u001b[0m\n\u001b[1;33m    print(\"Age is < or = 20\")\u001b[0m\n\u001b[1;37m    ^\u001b[0m\n\u001b[1;31mIndentationError\u001b[0m\u001b[1;31m:\u001b[0m expected an indented block after 'if' statement on line 2\n"
     ]
    }
   ],
   "source": [
    "age = 26\n",
    "if age <= 20:\n",
    "print(\"Age is < or = 20\")\n",
    "elif age>20 and age<=30:\n",
    "print(\"Age is > 20 and <= 30\")\n",
    "else:\n",
    "if age > 30:\n",
    "print(\"Age is > 30\")\n",
    "else:\n",
    "print(\"My Condition above didn't Matches\")"
   ]
  },
  {
   "cell_type": "code",
   "execution_count": 16,
   "id": "ab76b335-573b-47bb-a3bf-2fbbbfd9e0e6",
   "metadata": {},
   "outputs": [],
   "source": [
    "i=10\n",
    " if i <= 10:\n",
    "        print(\"number is "
   ]
  },
  {
   "cell_type": "code",
   "execution_count": 17,
   "id": "c91f6942-5a75-4aec-8013-b0d18bf312ec",
   "metadata": {},
   "outputs": [
    {
     "ename": "IndentationError",
     "evalue": "expected an indented block after 'if' statement on line 2 (2673258208.py, line 3)",
     "output_type": "error",
     "traceback": [
      "\u001b[1;36m  Cell \u001b[1;32mIn[17], line 3\u001b[1;36m\u001b[0m\n\u001b[1;33m    print(\"Age is < or = 20\")\u001b[0m\n\u001b[1;37m    ^\u001b[0m\n\u001b[1;31mIndentationError\u001b[0m\u001b[1;31m:\u001b[0m expected an indented block after 'if' statement on line 2\n"
     ]
    }
   ],
   "source": [
    "age = 26\n",
    "if age <= 20:\n",
    "print(\"Age is < or = 20\")\n",
    "elif age>20 and age<=30:\n",
    "print(\"Age is > 20 and <= 30\")\n",
    "else:\n",
    "if age > 30:\n",
    "print(\"Age is > 30\")\n",
    "else:\n",
    "print(\"My Condition above didn't Matches\")"
   ]
  },
  {
   "cell_type": "code",
   "execution_count": 18,
   "id": "adbaa724-0cab-440a-ad5c-abf559868ea6",
   "metadata": {},
   "outputs": [
    {
     "ename": "IndentationError",
     "evalue": "expected an indented block after 'else' statement on line 6 (1723310861.py, line 7)",
     "output_type": "error",
     "traceback": [
      "\u001b[1;36m  Cell \u001b[1;32mIn[18], line 7\u001b[1;36m\u001b[0m\n\u001b[1;33m    if age > 30:\u001b[0m\n\u001b[1;37m    ^\u001b[0m\n\u001b[1;31mIndentationError\u001b[0m\u001b[1;31m:\u001b[0m expected an indented block after 'else' statement on line 6\n"
     ]
    }
   ],
   "source": [
    "age = 26\n",
    "if age <= 20:\n",
    "    print(\"Age is < or = 20\")\n",
    "elif age>20 and age<=30:\n",
    "    print(\"Age is > 20 and <= 30\")\n",
    "else:\n",
    "if age > 30:\n",
    "    print(\"Age is > 30\")\n",
    "else:\n",
    "    print(\"My Condition above didn't Matches\")"
   ]
  },
  {
   "cell_type": "code",
   "execution_count": 19,
   "id": "6755c53c-e726-49e4-8c74-f073fb11f264",
   "metadata": {},
   "outputs": [
    {
     "ename": "IndentationError",
     "evalue": "expected an indented block after 'if' statement on line 7 (3452485808.py, line 8)",
     "output_type": "error",
     "traceback": [
      "\u001b[1;36m  Cell \u001b[1;32mIn[19], line 8\u001b[1;36m\u001b[0m\n\u001b[1;33m    print(\"Age is > 30\")\u001b[0m\n\u001b[1;37m    ^\u001b[0m\n\u001b[1;31mIndentationError\u001b[0m\u001b[1;31m:\u001b[0m expected an indented block after 'if' statement on line 7\n"
     ]
    }
   ],
   "source": [
    "age = 26\n",
    "if age <= 20:\n",
    "    print(\"Age is < or = 20\")\n",
    "elif age>20 and age<=30:\n",
    "    print(\"Age is > 20 and <= 30\")\n",
    "else:\n",
    "    if age > 30:\n",
    "    print(\"Age is > 30\")\n",
    "    else:\n",
    "print(\"My Condition above didn't Matches\")"
   ]
  },
  {
   "cell_type": "code",
   "execution_count": 20,
   "id": "5c926df0-c8c5-4a32-81ec-e8026d579f93",
   "metadata": {},
   "outputs": [
    {
     "ename": "IndentationError",
     "evalue": "expected an indented block after 'else' statement on line 6 (1986301064.py, line 7)",
     "output_type": "error",
     "traceback": [
      "\u001b[1;36m  Cell \u001b[1;32mIn[20], line 7\u001b[1;36m\u001b[0m\n\u001b[1;33m    if age > 30:\u001b[0m\n\u001b[1;37m    ^\u001b[0m\n\u001b[1;31mIndentationError\u001b[0m\u001b[1;31m:\u001b[0m expected an indented block after 'else' statement on line 6\n"
     ]
    }
   ],
   "source": [
    "age = 26\n",
    "if age <= 20:\n",
    "    print(\"Age is < or = 20\")\n",
    "elif age>20 and age<=30:\n",
    "    print(\"Age is > 20 and <= 30\")\n",
    "else:\n",
    "if age > 30:\n",
    "    print(\"Age is > 30\")\n",
    "else:\n",
    "print(\"My Condition above didn't Matches\")"
   ]
  },
  {
   "cell_type": "code",
   "execution_count": 23,
   "id": "ddb6904c-550b-4ab5-b4d2-1e436546154f",
   "metadata": {},
   "outputs": [
    {
     "name": "stdout",
     "output_type": "stream",
     "text": [
      "Age is < or = 20\n"
     ]
    }
   ],
   "source": [
    "age = 13\n",
    "if age <= 20:\n",
    "    print(\"Age is < or = 20\")\n",
    "elif age>20 and age<=30:\n",
    "    print(\"Age is > 20 and <= 30\")\n",
    "else:\n",
    "    if age > 30:\n",
    "        print(\"Age is > 30\")\n",
    "    else:\n",
    "        print(\"My Condition above didn't Matches\")\n",
    "        "
   ]
  },
  {
   "cell_type": "code",
   "execution_count": 29,
   "id": "c543aa23-6d9e-4ef9-841b-99647e114a52",
   "metadata": {},
   "outputs": [],
   "source": [
    "###hihihi"
   ]
  },
  {
   "cell_type": "code",
   "execution_count": 27,
   "id": "684ad483-3051-4b2c-ba7d-2dbb322566cc",
   "metadata": {},
   "outputs": [
    {
     "name": "stdout",
     "output_type": "stream",
     "text": [
      " Range range(startfrom,stopat,interval)\n",
      "Range :  1\n",
      "Range :  3\n",
      "Range :  5\n",
      "Range :  7\n",
      "Range :  9\n",
      "Range :  11\n",
      "Range :  13\n",
      "Range :  15\n",
      "Range :  17\n",
      "Range :  19\n",
      "Range :  21\n"
     ]
    }
   ],
   "source": [
    "print(\" Range range(startfrom,stopat,interval)\")\n",
    "for num in range(1,22,2):\n",
    "    print(\"Range : \",num)"
   ]
  },
  {
   "cell_type": "markdown",
   "id": "48932bfb-f85e-4bc4-b914-afa7302fff79",
   "metadata": {},
   "source": [
    "#hhiihhih\n"
   ]
  },
  {
   "cell_type": "code",
   "execution_count": 30,
   "id": "9931c433-1640-4381-9c67-5de4c2a4c580",
   "metadata": {},
   "outputs": [
    {
     "data": {
      "text/plain": [
       "4"
      ]
     },
     "execution_count": 30,
     "metadata": {},
     "output_type": "execute_result"
    }
   ],
   "source": [
    "2+2"
   ]
  },
  {
   "cell_type": "raw",
   "id": "35168e0c-8e73-49e9-971c-ffe02ece2cbf",
   "metadata": {},
   "source": [
    "####fff\n"
   ]
  },
  {
   "cell_type": "code",
   "execution_count": 31,
   "id": "d1e73c81-7b88-4898-b515-61d835b33c5b",
   "metadata": {},
   "outputs": [
    {
     "ename": "SyntaxError",
     "evalue": "invalid syntax (3540650986.py, line 1)",
     "output_type": "error",
     "traceback": [
      "\u001b[1;36m  Cell \u001b[1;32mIn[31], line 1\u001b[1;36m\u001b[0m\n\u001b[1;33m    input pandas\u001b[0m\n\u001b[1;37m          ^\u001b[0m\n\u001b[1;31mSyntaxError\u001b[0m\u001b[1;31m:\u001b[0m invalid syntax\n"
     ]
    }
   ],
   "source": [
    "input pandas\n"
   ]
  },
  {
   "cell_type": "code",
   "execution_count": 32,
   "id": "65be5530-2ff7-49c0-8ceb-58f6ef83b937",
   "metadata": {},
   "outputs": [],
   "source": [
    "import pandas\n"
   ]
  },
  {
   "cell_type": "code",
   "execution_count": 37,
   "id": "6ff16f3c-fa64-46ba-9bf9-9a12fdd843ce",
   "metadata": {},
   "outputs": [],
   "source": [
    "import pandas as pd "
   ]
  },
  {
   "cell_type": "code",
   "execution_count": null,
   "id": "5dbecc72-1995-4d94-a6bf-6184004fbdbe",
   "metadata": {},
   "outputs": [],
   "source": []
  }
 ],
 "metadata": {
  "kernelspec": {
   "display_name": "Python 3 (ipykernel)",
   "language": "python",
   "name": "python3"
  },
  "language_info": {
   "codemirror_mode": {
    "name": "ipython",
    "version": 3
   },
   "file_extension": ".py",
   "mimetype": "text/x-python",
   "name": "python",
   "nbconvert_exporter": "python",
   "pygments_lexer": "ipython3",
   "version": "3.11.0"
  }
 },
 "nbformat": 4,
 "nbformat_minor": 5
}
