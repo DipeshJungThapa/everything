{
 "cells": [
  {
   "cell_type": "markdown",
   "id": "2fdd16ba",
   "metadata": {},
   "source": [
    "# second day"
   ]
  },
  {
   "cell_type": "code",
   "execution_count": 1,
   "id": "ba5ee87f",
   "metadata": {},
   "outputs": [],
   "source": [
    "t=[1,3,45,3,4,5]\n"
   ]
  },
  {
   "cell_type": "code",
   "execution_count": 2,
   "id": "c84dd051",
   "metadata": {},
   "outputs": [
    {
     "data": {
      "text/plain": [
       "1"
      ]
     },
     "execution_count": 2,
     "metadata": {},
     "output_type": "execute_result"
    }
   ],
   "source": [
    "min(t)\n"
   ]
  },
  {
   "cell_type": "code",
   "execution_count": 3,
   "id": "4990f02c",
   "metadata": {},
   "outputs": [
    {
     "name": "stdout",
     "output_type": "stream",
     "text": [
      "Range :  0\n",
      "Range :  1\n",
      "Range :  2\n",
      "Range :  3\n",
      "Range :  4\n",
      "Range :  5\n",
      "Range :  6\n",
      "Range :  7\n",
      "Range :  8\n",
      "Range :  9\n"
     ]
    }
   ],
   "source": [
    "for i in range(10):\n",
    "    print(\"Range : \",i)"
   ]
  },
  {
   "cell_type": "code",
   "execution_count": 10,
   "id": "d68c774f",
   "metadata": {},
   "outputs": [
    {
     "name": "stdout",
     "output_type": "stream",
     "text": [
      "1\n",
      "2\n",
      "3\n",
      "4\n",
      "5\n",
      "6\n",
      "7\n",
      "8\n",
      "9\n"
     ]
    }
   ],
   "source": [
    "for i in range(1,10):\n",
    "    print(i)"
   ]
  },
  {
   "cell_type": "code",
   "execution_count": 9,
   "id": "38069c9d",
   "metadata": {},
   "outputs": [
    {
     "ename": "SyntaxError",
     "evalue": "invalid syntax (2580526428.py, line 3)",
     "output_type": "error",
     "traceback": [
      "\u001b[1;36m  Cell \u001b[1;32mIn[9], line 3\u001b[1;36m\u001b[0m\n\u001b[1;33m    print(\"is -- even number\"):\u001b[0m\n\u001b[1;37m                              ^\u001b[0m\n\u001b[1;31mSyntaxError\u001b[0m\u001b[1;31m:\u001b[0m invalid syntax\n"
     ]
    }
   ],
   "source": [
    "for i in range(0,10):\n",
    "    if i%2==0:\n",
    "        print(\"is -- even number\"):"
   ]
  },
  {
   "cell_type": "code",
   "execution_count": 12,
   "id": "4ededabd",
   "metadata": {},
   "outputs": [
    {
     "name": "stdout",
     "output_type": "stream",
     "text": [
      "i is  even number 0\n",
      "i is  even number 2\n",
      "i is  even number 4\n",
      "i is  even number 6\n",
      "i is  even number 8\n"
     ]
    }
   ],
   "source": [
    "for i in range(0,10):\n",
    "    if i%2==0:\n",
    "        print(\"i is  even number\",i)"
   ]
  },
  {
   "cell_type": "code",
   "execution_count": 13,
   "id": "8f1c0c03",
   "metadata": {},
   "outputs": [
    {
     "ename": "SyntaxError",
     "evalue": "invalid syntax (1023137166.py, line 1)",
     "output_type": "error",
     "traceback": [
      "\u001b[1;36m  Cell \u001b[1;32mIn[13], line 1\u001b[1;36m\u001b[0m\n\u001b[1;33m    Rank\tTeam\tParticipations\tTitles\tPld\tW\tD\tL\tGF\tGA\tGD\tPts\u001b[0m\n\u001b[1;37m        \t^\u001b[0m\n\u001b[1;31mSyntaxError\u001b[0m\u001b[1;31m:\u001b[0m invalid syntax\n"
     ]
    }
   ],
   "source": []
  },
  {
   "cell_type": "code",
   "execution_count": 14,
   "id": "09c4af93",
   "metadata": {},
   "outputs": [],
   "source": [
    "g=\"python programming\"\n"
   ]
  },
  {
   "cell_type": "code",
   "execution_count": 15,
   "id": "6abfb2de",
   "metadata": {},
   "outputs": [
    {
     "ename": "SyntaxError",
     "evalue": "invalid syntax (2367453110.py, line 1)",
     "output_type": "error",
     "traceback": [
      "\u001b[1;36m  Cell \u001b[1;32mIn[15], line 1\u001b[1;36m\u001b[0m\n\u001b[1;33m    install pandas as pd\u001b[0m\n\u001b[1;37m            ^\u001b[0m\n\u001b[1;31mSyntaxError\u001b[0m\u001b[1;31m:\u001b[0m invalid syntax\n"
     ]
    }
   ],
   "source": [
    "install pandas as pd"
   ]
  },
  {
   "cell_type": "code",
   "execution_count": null,
   "id": "5059fc81",
   "metadata": {},
   "outputs": [],
   "source": [
    "g=\"python programming\"\n"
   ]
  },
  {
   "cell_type": "code",
   "execution_count": null,
   "id": "5a54187d",
   "metadata": {},
   "outputs": [],
   "source": [
    "help(c.Counter)\n"
   ]
  },
  {
   "cell_type": "code",
   "execution_count": null,
   "id": "f66ecbeb",
   "metadata": {},
   "outputs": [],
   "source": [
    "import collection as c"
   ]
  },
  {
   "cell_type": "code",
   "execution_count": null,
   "id": "a50f866b",
   "metadata": {},
   "outputs": [],
   "source": [
    "help(c.Counter)\n"
   ]
  },
  {
   "cell_type": "code",
   "execution_count": null,
   "id": "6649963d",
   "metadata": {},
   "outputs": [],
   "source": [
    "g=(\"python programming\")"
   ]
  },
  {
   "cell_type": "code",
   "execution_count": null,
   "id": "4291c741",
   "metadata": {},
   "outputs": [],
   "source": [
    "help(c.Counter)\n"
   ]
  },
  {
   "cell_type": "code",
   "execution_count": null,
   "id": "bdab0c5f",
   "metadata": {},
   "outputs": [],
   "source": [
    "dir(c)"
   ]
  },
  {
   "cell_type": "code",
   "execution_count": null,
   "id": "8d03a647",
   "metadata": {},
   "outputs": [],
   "source": [
    "help(c.Counter)\n"
   ]
  },
  {
   "cell_type": "code",
   "execution_count": null,
   "id": "448de5b3",
   "metadata": {},
   "outputs": [],
   "source": [
    "for i in range(1,10):\n",
    "    print(i)"
   ]
  },
  {
   "cell_type": "code",
   "execution_count": null,
   "id": "f4a23a58",
   "metadata": {},
   "outputs": [],
   "source": []
  }
 ],
 "metadata": {
  "kernelspec": {
   "display_name": "Python 3 (ipykernel)",
   "language": "python",
   "name": "python3"
  },
  "language_info": {
   "codemirror_mode": {
    "name": "ipython",
    "version": 3
   },
   "file_extension": ".py",
   "mimetype": "text/x-python",
   "name": "python",
   "nbconvert_exporter": "python",
   "pygments_lexer": "ipython3",
   "version": "3.11.0"
  }
 },
 "nbformat": 4,
 "nbformat_minor": 5
}
